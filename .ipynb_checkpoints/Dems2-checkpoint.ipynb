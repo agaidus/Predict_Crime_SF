{
 "cells": [
  {
   "cell_type": "code",
   "execution_count": 5,
   "metadata": {
    "collapsed": false
   },
   "outputs": [],
   "source": [
    "import pandas as pd\n",
    "import numpy as np\n",
    "import geopandas as gpd\n",
    "import matplotlib.pyplot as plt\n",
    "from shapely.geometry import Point, Polygon\n",
    "from geopandas.tools import sjoin\n",
    "import pysal as ps\n",
    "import numpy as np\n",
    "%matplotlib inline\n"
   ]
  },
  {
   "cell_type": "code",
   "execution_count": 6,
   "metadata": {
    "collapsed": false
   },
   "outputs": [],
   "source": [
    "pop=pd.read_csv('Data/ACS/ACS_14_5YR_B01001_with_ann.csv',skiprows=2, usecols=[1,3],\\\n",
    "                names=['BGFIPS10','Pop'],dtype={1:pd.np.object}).set_index('BGFIPS10')['Pop']\n",
    "\n",
    "male=pd.read_csv('Data/ACS/ACS_14_5YR_B01001_with_ann.csv',skiprows=2, usecols=[1,5],\\\n",
    "                names=['BGFIPS10','Male'],dtype={1:pd.np.object}).set_index('BGFIPS10')['Male']\n",
    "\n",
    "age=pd.read_csv('Data/ACS/ACS_14_5YR_B01002_with_ann.csv',skiprows=2, usecols=[1,3],\\\n",
    "                names=['BGFIPS10','MedAge'],dtype={1:pd.np.object}).set_index('BGFIPS10')['MedAge']\n",
    "\n",
    "pov=pd.read_csv('Data/ACS/ACS_14_5YR_B17017_with_ann.csv',skiprows=2, usecols=[1,3,5],\\\n",
    "                names=['BGFIPS10','HH','Pov'],dtype={1:pd.np.object}).set_index('BGFIPS10')\n",
    "\n",
    "inc=pd.read_csv('Data/ACS/ACS_14_5YR_B19013_with_ann.csv',skiprows=2, usecols=[1,3],\\\n",
    "                names=['BGFIPS10','MedInc'],dtype={1:pd.np.object}).set_index('BGFIPS10')['MedInc']\n",
    "\n",
    "hu=pd.read_csv('Data/ACS/ACS_14_5YR_B25001_with_ann.csv',skiprows=2, usecols=[1,3],\\\n",
    "                names=['BGFIPS10','HU'],dtype={1:pd.np.object}).set_index('BGFIPS10')['HU']\n",
    "\n",
    "vacant=pd.read_csv('Data/ACS/ACS_14_5YR_B25004_with_ann.csv',skiprows=2, usecols=[1,3],\\\n",
    "                names=['BGFIPS10','Vacant'],dtype={1:pd.np.object}).set_index('BGFIPS10')['Vacant']\n"
   ]
  },
  {
   "cell_type": "code",
   "execution_count": 7,
   "metadata": {
    "collapsed": false
   },
   "outputs": [],
   "source": [
    "bgs=gpd.read_file('Data/SF_BlockGroups10.shp').set_index('BGFIPS10')\n",
    "#bgs=bgs[~bgs.index.isin(['060759804011','060750179021','060759803001'])]\n",
    "\n",
    "dems=pd.DataFrame(index=bgs.index)\n",
    "\n",
    "dems['Pop']=pop\n",
    "\n",
    "dems['PopDens1k']=pop/(bgs.area/2.59e+6)/1000\n",
    "dems['pMale']=male/pop*100\n",
    "dems['MedAge']=age\n",
    "dems['pHHPov']=pov.Pov/pov.HH*100\n",
    "dems['VacantHU']=vacant/hu*100\n",
    "dems.loc[dems.Pop==0,'MedAge']=np.nan\n",
    "dems.MedAge=dems.MedAge.astype(np.float)\n",
    "#dems=dems.fillna(dems.mean())\n"
   ]
  },
  {
   "cell_type": "code",
   "execution_count": 8,
   "metadata": {
    "collapsed": false
   },
   "outputs": [],
   "source": [
    "assaults=pd.read_csv('Data/SF_Crime_Incidents_2010-2014_Assaults.csv')\n",
    "assault_loc=gpd.GeoDataFrame(geometry=assaults.apply(lambda row:Point(row['X'],row['Y']),1),\\\n",
    "                            crs={'init': 'epsg:4326'}).to_crs(bgs.crs)\n",
    "\n",
    "assault_counts=sjoin(assault_loc, \\\n",
    "                        bgs[['geometry']].reset_index()).groupby('BGFIPS10').size().reindex(bgs.index).fillna(0)\n",
    "assault_rate=assault_counts/dems['Pop']*1000\n",
    "assault_rate.name='AssaultP1k'"
   ]
  },
  {
   "cell_type": "code",
   "execution_count": 9,
   "metadata": {
    "collapsed": false
   },
   "outputs": [],
   "source": [
    "drunk=pd.read_csv('Data/SF_Crime_Incidents_2010-2014_Drunkenness.csv')\n",
    "drunk_loc=gpd.GeoDataFrame(geometry=drunk.apply(lambda row:Point(row['X'],row['Y']),1),\\\n",
    "                            crs={'init': 'epsg:4326'}).to_crs(bgs.crs)\n",
    "\n",
    "drunk_counts=sjoin(drunk_loc, \\\n",
    "                        bgs[['geometry']].reset_index()).groupby('BGFIPS10').size().reindex(bgs.index).fillna(0)\n",
    "drunk_rate=drunk_counts/dems['Pop']*1000\n",
    "drunk_rate.name='DrunkP1k'"
   ]
  },
  {
   "cell_type": "code",
   "execution_count": 10,
   "metadata": {
    "collapsed": false
   },
   "outputs": [],
   "source": [
    "bars=gpd.read_file('Data/sf_bar_locations.shp').to_crs(bgs.crs)\n",
    "bar_counts=sjoin(bars, \\\n",
    "                        bgs[['geometry']].reset_index()).groupby('BGFIPS10').size().reindex(bgs.index).fillna(0)\n",
    "bar_dens=bar_counts/(bgs.area/2.59e+6)\n",
    "bar_dens.name='BarPSqMi'"
   ]
  },
  {
   "cell_type": "code",
   "execution_count": 11,
   "metadata": {
    "collapsed": false
   },
   "outputs": [],
   "source": [
    "retail=gpd.read_file('Data/Retail_Land_Use_Parcel_Centroid.shp').to_crs(bgs.crs)\n",
    "retail_counts=sjoin(retail, \\\n",
    "                        bgs[['geometry']].reset_index()).groupby('BGFIPS10').size().reindex(bgs.index).fillna(0)\n",
    "retail_dens=retail_counts/(bgs.area/2.59e+6)\n",
    "retail_dens.name='RetailPSqMi'"
   ]
  },
  {
   "cell_type": "code",
   "execution_count": 12,
   "metadata": {
    "collapsed": false
   },
   "outputs": [
    {
     "data": {
      "text/html": [
       "<div>\n",
       "<table border=\"1\" class=\"dataframe\">\n",
       "  <thead>\n",
       "    <tr style=\"text-align: right;\">\n",
       "      <th></th>\n",
       "      <th>AssaultP1k</th>\n",
       "      <th>DrunkP1k</th>\n",
       "      <th>BarPSqMi</th>\n",
       "      <th>RetailPSqMi</th>\n",
       "      <th>Pop</th>\n",
       "      <th>PopDens1k</th>\n",
       "      <th>pMale</th>\n",
       "      <th>MedAge</th>\n",
       "      <th>pHHPov</th>\n",
       "      <th>VacantHU</th>\n",
       "      <th>geometry</th>\n",
       "    </tr>\n",
       "    <tr>\n",
       "      <th>BGFIPS10</th>\n",
       "      <th></th>\n",
       "      <th></th>\n",
       "      <th></th>\n",
       "      <th></th>\n",
       "      <th></th>\n",
       "      <th></th>\n",
       "      <th></th>\n",
       "      <th></th>\n",
       "      <th></th>\n",
       "      <th></th>\n",
       "      <th></th>\n",
       "    </tr>\n",
       "  </thead>\n",
       "  <tbody>\n",
       "    <tr>\n",
       "      <th>060750101001</th>\n",
       "      <td>481.632653</td>\n",
       "      <td>27.551020</td>\n",
       "      <td>9.622053</td>\n",
       "      <td>91.409506</td>\n",
       "      <td>980</td>\n",
       "      <td>4.714806</td>\n",
       "      <td>50.204082</td>\n",
       "      <td>33.6</td>\n",
       "      <td>9.859155</td>\n",
       "      <td>5.490849</td>\n",
       "      <td>POLYGON ((-211050.6276144625 -20707.0181740056...</td>\n",
       "    </tr>\n",
       "    <tr>\n",
       "      <th>060750101002</th>\n",
       "      <td>81.138040</td>\n",
       "      <td>2.809975</td>\n",
       "      <td>35.622900</td>\n",
       "      <td>94.994400</td>\n",
       "      <td>2847</td>\n",
       "      <td>33.806132</td>\n",
       "      <td>55.567264</td>\n",
       "      <td>40.9</td>\n",
       "      <td>16.896985</td>\n",
       "      <td>7.334109</td>\n",
       "      <td>POLYGON ((-211308.8260894234 -20809.6687658699...</td>\n",
       "    </tr>\n",
       "    <tr>\n",
       "      <th>060750102001</th>\n",
       "      <td>93.692022</td>\n",
       "      <td>11.131725</td>\n",
       "      <td>9.787183</td>\n",
       "      <td>58.723099</td>\n",
       "      <td>1078</td>\n",
       "      <td>10.550584</td>\n",
       "      <td>60.760668</td>\n",
       "      <td>47.3</td>\n",
       "      <td>5.669291</td>\n",
       "      <td>30.219780</td>\n",
       "      <td>(POLYGON ((-212986.3528985226 -20191.607399463...</td>\n",
       "    </tr>\n",
       "    <tr>\n",
       "      <th>060750102002</th>\n",
       "      <td>22.062350</td>\n",
       "      <td>0.000000</td>\n",
       "      <td>0.000000</td>\n",
       "      <td>20.616740</td>\n",
       "      <td>2085</td>\n",
       "      <td>42.985902</td>\n",
       "      <td>47.673861</td>\n",
       "      <td>34.8</td>\n",
       "      <td>3.139717</td>\n",
       "      <td>5.278810</td>\n",
       "      <td>POLYGON ((-212577.6518196098 -21195.1989812748...</td>\n",
       "    </tr>\n",
       "    <tr>\n",
       "      <th>060750102003</th>\n",
       "      <td>87.038789</td>\n",
       "      <td>1.892148</td>\n",
       "      <td>0.000000</td>\n",
       "      <td>19.759272</td>\n",
       "      <td>1057</td>\n",
       "      <td>20.885550</td>\n",
       "      <td>51.561022</td>\n",
       "      <td>46.9</td>\n",
       "      <td>7.822686</td>\n",
       "      <td>9.658422</td>\n",
       "      <td>POLYGON ((-213313.2446261347 -20471.8720026677...</td>\n",
       "    </tr>\n",
       "  </tbody>\n",
       "</table>\n",
       "</div>"
      ],
      "text/plain": [
       "              AssaultP1k   DrunkP1k   BarPSqMi  RetailPSqMi   Pop  PopDens1k  \\\n",
       "BGFIPS10                                                                       \n",
       "060750101001  481.632653  27.551020   9.622053    91.409506   980   4.714806   \n",
       "060750101002   81.138040   2.809975  35.622900    94.994400  2847  33.806132   \n",
       "060750102001   93.692022  11.131725   9.787183    58.723099  1078  10.550584   \n",
       "060750102002   22.062350   0.000000   0.000000    20.616740  2085  42.985902   \n",
       "060750102003   87.038789   1.892148   0.000000    19.759272  1057  20.885550   \n",
       "\n",
       "                  pMale  MedAge     pHHPov   VacantHU  \\\n",
       "BGFIPS10                                                \n",
       "060750101001  50.204082    33.6   9.859155   5.490849   \n",
       "060750101002  55.567264    40.9  16.896985   7.334109   \n",
       "060750102001  60.760668    47.3   5.669291  30.219780   \n",
       "060750102002  47.673861    34.8   3.139717   5.278810   \n",
       "060750102003  51.561022    46.9   7.822686   9.658422   \n",
       "\n",
       "                                                       geometry  \n",
       "BGFIPS10                                                         \n",
       "060750101001  POLYGON ((-211050.6276144625 -20707.0181740056...  \n",
       "060750101002  POLYGON ((-211308.8260894234 -20809.6687658699...  \n",
       "060750102001  (POLYGON ((-212986.3528985226 -20191.607399463...  \n",
       "060750102002  POLYGON ((-212577.6518196098 -21195.1989812748...  \n",
       "060750102003  POLYGON ((-213313.2446261347 -20471.8720026677...  "
      ]
     },
     "execution_count": 12,
     "metadata": {},
     "output_type": "execute_result"
    }
   ],
   "source": [
    "gdf=gpd.GeoDataFrame(pd.concat([assault_rate,drunk_rate, bar_dens, retail_dens,dems],1)\\\n",
    "                     ,geometry=bgs.geometry)\n",
    "gdf.index.name='BGFIPS10'\n",
    "gdf=gdf.fillna(gdf.mean())\n",
    "gdf.head()"
   ]
  },
  {
   "cell_type": "code",
   "execution_count": 13,
   "metadata": {
    "collapsed": false
   },
   "outputs": [
    {
     "data": {
      "text/plain": [
       "AssaultP1k       88.652299\n",
       "DrunkP1k          5.492257\n",
       "BarPSqMi         18.875553\n",
       "RetailPSqMi     100.887579\n",
       "Pop            1434.380623\n",
       "PopDens1k        30.220763\n",
       "pMale            50.777812\n",
       "MedAge           40.295848\n",
       "pHHPov           12.613312\n",
       "VacantHU          7.419983\n",
       "dtype: float64"
      ]
     },
     "execution_count": 13,
     "metadata": {},
     "output_type": "execute_result"
    }
   ],
   "source": [
    "gdf.mean()"
   ]
  },
  {
   "cell_type": "code",
   "execution_count": 14,
   "metadata": {
    "collapsed": false
   },
   "outputs": [],
   "source": [
    "data=gdf.drop('geometry',1)\n",
    "#geo=gdf[['geometry']]\n",
    "data.to_csv('InputDataset.csv')\n",
    "#geo.reset_index().to_file('BG_Geometry.shp')"
   ]
  }
 ],
 "metadata": {
  "kernelspec": {
   "display_name": "Python 2",
   "language": "python",
   "name": "python2"
  },
  "language_info": {
   "codemirror_mode": {
    "name": "ipython",
    "version": 2
   },
   "file_extension": ".py",
   "mimetype": "text/x-python",
   "name": "python",
   "nbconvert_exporter": "python",
   "pygments_lexer": "ipython2",
   "version": "2.7.11"
  }
 },
 "nbformat": 4,
 "nbformat_minor": 0
}
