{
 "cells": [
  {
   "cell_type": "code",
   "execution_count": 23,
   "metadata": {
    "collapsed": false
   },
   "outputs": [],
   "source": [
    "import pandas as pd\n",
    "import numpy as np\n",
    "import geopandas as gpd\n",
    "import matplotlib.pyplot as plt\n",
    "from shapely.geometry import Point, Polygon\n",
    "from geopandas.tools import sjoin\n",
    "import pysal as ps\n",
    "import numpy as np\n",
    "%matplotlib inline\n"
   ]
  },
  {
   "cell_type": "markdown",
   "metadata": {},
   "source": [
    "## ACS Demographic Data\n",
    "\n",
    "Below, I read in raw demographic variables from ACS Block Group 5-Year Estimates in San Francisco. Data was downloaded from [American Fact Finder](http://factfinder.census.gov/faces/nav/jsf/pages/index.xhtml). I then convert demographic counts to rates and compile them in the same dataframe."
   ]
  },
  {
   "cell_type": "code",
   "execution_count": 24,
   "metadata": {
    "collapsed": false
   },
   "outputs": [],
   "source": [
    "pop=pd.read_csv('Data/ACS/ACS_14_5YR_B01001_with_ann.csv',skiprows=2, usecols=[1,3],\\\n",
    "                names=['BGFIPS10','Pop'],dtype={1:pd.np.object}).set_index('BGFIPS10')['Pop']\n",
    "\n",
    "male=pd.read_csv('Data/ACS/ACS_14_5YR_B01001_with_ann.csv',skiprows=2, usecols=[1,5],\\\n",
    "                names=['BGFIPS10','Male'],dtype={1:pd.np.object}).set_index('BGFIPS10')['Male']\n",
    "\n",
    "pov=pd.read_csv('Data/ACS/ACS_14_5YR_B17017_with_ann.csv',skiprows=2, usecols=[1,3,5],\\\n",
    "                names=['BGFIPS10','HH','Pov'],dtype={1:pd.np.object}).set_index('BGFIPS10')\n",
    "\n",
    "\n",
    "hu=pd.read_csv('Data/ACS/ACS_14_5YR_B25001_with_ann.csv',skiprows=2, usecols=[1,3],\\\n",
    "                names=['BGFIPS10','HU'],dtype={1:pd.np.object}).set_index('BGFIPS10')['HU']\n",
    "\n",
    "vacant=pd.read_csv('Data/ACS/ACS_14_5YR_B25004_with_ann.csv',skiprows=2, usecols=[1,3],\\\n",
    "                names=['BGFIPS10','Vacant'],dtype={1:pd.np.object}).set_index('BGFIPS10')['Vacant']\n"
   ]
  },
  {
   "cell_type": "code",
   "execution_count": 25,
   "metadata": {
    "collapsed": false
   },
   "outputs": [],
   "source": [
    "bgs=gpd.read_file('Data/SF_BlockGroups10.shp').set_index('BGFIPS10')\n",
    "dems=pd.DataFrame(index=bgs.index)\n",
    "dems['Pop']=pop\n",
    "dems['PopDens1k']=pop/(bgs.area/2.59e+6)/1000\n",
    "dems['pMale']=male/pop*100\n",
    "dems['pHHPov']=pov.Pov/pov.HH*100\n",
    "dems['VacantHU']=vacant/hu*100"
   ]
  },
  {
   "cell_type": "markdown",
   "metadata": {},
   "source": [
    "## Assault"
   ]
  },
  {
   "cell_type": "code",
   "execution_count": 26,
   "metadata": {
    "collapsed": false
   },
   "outputs": [],
   "source": [
    "assaults=pd.read_csv('Data/SF_Crime_Incidents_2010-2014_Assaults.csv')\n",
    "assault_loc=gpd.GeoDataFrame(geometry=assaults.apply(lambda row:Point(row['X'],row['Y']),1),\\\n",
    "                            crs={'init': 'epsg:4326'}).to_crs(bgs.crs)\n",
    "\n",
    "assault_counts=sjoin(assault_loc, \\\n",
    "                        bgs[['geometry']].reset_index()).groupby('BGFIPS10').size().reindex(bgs.index).fillna(0)\n",
    "assault_rate=assault_counts/dems['Pop']*1000\n",
    "assault_rate.name='AssaultP1k'"
   ]
  },
  {
   "cell_type": "code",
   "execution_count": 27,
   "metadata": {
    "collapsed": false
   },
   "outputs": [],
   "source": [
    "drunk=pd.read_csv('Data/SF_Crime_Incidents_2010-2014_Drunkenness.csv')\n",
    "drunk_loc=gpd.GeoDataFrame(geometry=drunk.apply(lambda row:Point(row['X'],row['Y']),1),\\\n",
    "                            crs={'init': 'epsg:4326'}).to_crs(bgs.crs)\n",
    "\n",
    "drunk_counts=sjoin(drunk_loc, \\\n",
    "                        bgs[['geometry']].reset_index()).groupby('BGFIPS10').size().reindex(bgs.index).fillna(0)\n",
    "drunk_counts.name='Drunk'\n",
    "drunk_rate=drunk_counts/dems['Pop']*1000\n",
    "drunk_rate.name='DrunkP1k'"
   ]
  },
  {
   "cell_type": "code",
   "execution_count": 28,
   "metadata": {
    "collapsed": false
   },
   "outputs": [],
   "source": [
    "bars=gpd.read_file('Data/sf_bar_locations.shp').to_crs(bgs.crs)\n",
    "bar_counts=sjoin(bars, \\\n",
    "                        bgs[['geometry']].reset_index()).groupby('BGFIPS10').size().reindex(bgs.index).fillna(0)\n",
    "bar_counts.name='Bars'\n",
    "bar_dens=bar_counts/(bgs.area/2.59e+6)\n",
    "bar_dens.name='BarPSqMi'"
   ]
  },
  {
   "cell_type": "code",
   "execution_count": 29,
   "metadata": {
    "collapsed": false
   },
   "outputs": [],
   "source": [
    "retail=gpd.read_file('Data/Retail_Land_Use_Parcel_Centroid.shp').to_crs(bgs.crs)\n",
    "retail_counts=sjoin(retail, \\\n",
    "                        bgs[['geometry']].reset_index()).groupby('BGFIPS10').size().reindex(bgs.index).fillna(0)\n",
    "retail_dens=retail_counts/(bgs.area/2.59e+6)\n",
    "retail_dens.name='RetailPSqMi'"
   ]
  },
  {
   "cell_type": "code",
   "execution_count": 30,
   "metadata": {
    "collapsed": false
   },
   "outputs": [
    {
     "data": {
      "text/html": [
       "<div>\n",
       "<table border=\"1\" class=\"dataframe\">\n",
       "  <thead>\n",
       "    <tr style=\"text-align: right;\">\n",
       "      <th></th>\n",
       "      <th>AssaultP1k</th>\n",
       "      <th>Drunk</th>\n",
       "      <th>DrunkP1k</th>\n",
       "      <th>Bars</th>\n",
       "      <th>BarPSqMi</th>\n",
       "      <th>RetailPSqMi</th>\n",
       "      <th>Pop</th>\n",
       "      <th>PopDens1k</th>\n",
       "      <th>pMale</th>\n",
       "      <th>pHHPov</th>\n",
       "      <th>VacantHU</th>\n",
       "      <th>geometry</th>\n",
       "      <th>SqMiles</th>\n",
       "    </tr>\n",
       "    <tr>\n",
       "      <th>BGFIPS10</th>\n",
       "      <th></th>\n",
       "      <th></th>\n",
       "      <th></th>\n",
       "      <th></th>\n",
       "      <th></th>\n",
       "      <th></th>\n",
       "      <th></th>\n",
       "      <th></th>\n",
       "      <th></th>\n",
       "      <th></th>\n",
       "      <th></th>\n",
       "      <th></th>\n",
       "      <th></th>\n",
       "    </tr>\n",
       "  </thead>\n",
       "  <tbody>\n",
       "    <tr>\n",
       "      <th>060750101001</th>\n",
       "      <td>481.632653</td>\n",
       "      <td>27.0</td>\n",
       "      <td>27.551020</td>\n",
       "      <td>2.0</td>\n",
       "      <td>9.622053</td>\n",
       "      <td>91.409506</td>\n",
       "      <td>980</td>\n",
       "      <td>4.714806</td>\n",
       "      <td>50.204082</td>\n",
       "      <td>9.859155</td>\n",
       "      <td>5.490849</td>\n",
       "      <td>POLYGON ((-211050.6276144625 -20707.0181740056...</td>\n",
       "      <td>0.207856</td>\n",
       "    </tr>\n",
       "    <tr>\n",
       "      <th>060750101002</th>\n",
       "      <td>81.138040</td>\n",
       "      <td>8.0</td>\n",
       "      <td>2.809975</td>\n",
       "      <td>3.0</td>\n",
       "      <td>35.622900</td>\n",
       "      <td>94.994400</td>\n",
       "      <td>2847</td>\n",
       "      <td>33.806132</td>\n",
       "      <td>55.567264</td>\n",
       "      <td>16.896985</td>\n",
       "      <td>7.334109</td>\n",
       "      <td>POLYGON ((-211308.8260894234 -20809.6687658699...</td>\n",
       "      <td>0.084215</td>\n",
       "    </tr>\n",
       "    <tr>\n",
       "      <th>060750102001</th>\n",
       "      <td>93.692022</td>\n",
       "      <td>12.0</td>\n",
       "      <td>11.131725</td>\n",
       "      <td>1.0</td>\n",
       "      <td>9.787183</td>\n",
       "      <td>58.723099</td>\n",
       "      <td>1078</td>\n",
       "      <td>10.550584</td>\n",
       "      <td>60.760668</td>\n",
       "      <td>5.669291</td>\n",
       "      <td>30.219780</td>\n",
       "      <td>(POLYGON ((-212986.3528985226 -20191.607399463...</td>\n",
       "      <td>0.102174</td>\n",
       "    </tr>\n",
       "    <tr>\n",
       "      <th>060750102002</th>\n",
       "      <td>22.062350</td>\n",
       "      <td>0.0</td>\n",
       "      <td>0.000000</td>\n",
       "      <td>0.0</td>\n",
       "      <td>0.000000</td>\n",
       "      <td>20.616740</td>\n",
       "      <td>2085</td>\n",
       "      <td>42.985902</td>\n",
       "      <td>47.673861</td>\n",
       "      <td>3.139717</td>\n",
       "      <td>5.278810</td>\n",
       "      <td>POLYGON ((-212577.6518196098 -21195.1989812748...</td>\n",
       "      <td>0.048504</td>\n",
       "    </tr>\n",
       "    <tr>\n",
       "      <th>060750102003</th>\n",
       "      <td>87.038789</td>\n",
       "      <td>2.0</td>\n",
       "      <td>1.892148</td>\n",
       "      <td>0.0</td>\n",
       "      <td>0.000000</td>\n",
       "      <td>19.759272</td>\n",
       "      <td>1057</td>\n",
       "      <td>20.885550</td>\n",
       "      <td>51.561022</td>\n",
       "      <td>7.822686</td>\n",
       "      <td>9.658422</td>\n",
       "      <td>POLYGON ((-213313.2446261347 -20471.8720026677...</td>\n",
       "      <td>0.050609</td>\n",
       "    </tr>\n",
       "  </tbody>\n",
       "</table>\n",
       "</div>"
      ],
      "text/plain": [
       "              AssaultP1k  Drunk   DrunkP1k  Bars   BarPSqMi  RetailPSqMi  \\\n",
       "BGFIPS10                                                                   \n",
       "060750101001  481.632653   27.0  27.551020   2.0   9.622053    91.409506   \n",
       "060750101002   81.138040    8.0   2.809975   3.0  35.622900    94.994400   \n",
       "060750102001   93.692022   12.0  11.131725   1.0   9.787183    58.723099   \n",
       "060750102002   22.062350    0.0   0.000000   0.0   0.000000    20.616740   \n",
       "060750102003   87.038789    2.0   1.892148   0.0   0.000000    19.759272   \n",
       "\n",
       "               Pop  PopDens1k      pMale     pHHPov   VacantHU  \\\n",
       "BGFIPS10                                                         \n",
       "060750101001   980   4.714806  50.204082   9.859155   5.490849   \n",
       "060750101002  2847  33.806132  55.567264  16.896985   7.334109   \n",
       "060750102001  1078  10.550584  60.760668   5.669291  30.219780   \n",
       "060750102002  2085  42.985902  47.673861   3.139717   5.278810   \n",
       "060750102003  1057  20.885550  51.561022   7.822686   9.658422   \n",
       "\n",
       "                                                       geometry   SqMiles  \n",
       "BGFIPS10                                                                   \n",
       "060750101001  POLYGON ((-211050.6276144625 -20707.0181740056...  0.207856  \n",
       "060750101002  POLYGON ((-211308.8260894234 -20809.6687658699...  0.084215  \n",
       "060750102001  (POLYGON ((-212986.3528985226 -20191.607399463...  0.102174  \n",
       "060750102002  POLYGON ((-212577.6518196098 -21195.1989812748...  0.048504  \n",
       "060750102003  POLYGON ((-213313.2446261347 -20471.8720026677...  0.050609  "
      ]
     },
     "execution_count": 30,
     "metadata": {},
     "output_type": "execute_result"
    }
   ],
   "source": [
    "gdf=gpd.GeoDataFrame(pd.concat([assault_rate,drunk_counts, drunk_rate,bar_counts, bar_dens, retail_dens,dems],1)\\\n",
    "                     ,geometry=bgs.geometry)\n",
    "gdf.index.name='BGFIPS10'\n",
    "gdf['SqMiles']=gdf.geometry.area/2.59e+6\n",
    "gdf=gdf.replace(np.inf, np.nan)\n",
    "gdf[(gdf==np.inf).any(1)]\n",
    "gdf=gdf.fillna(gdf.mean())\n",
    "gdf.head()"
   ]
  },
  {
   "cell_type": "code",
   "execution_count": 31,
   "metadata": {
    "collapsed": false
   },
   "outputs": [
    {
     "data": {
      "text/plain": [
       "AssaultP1k       88.652299\n",
       "Drunk             6.165517\n",
       "DrunkP1k          5.492257\n",
       "Bars              0.743103\n",
       "BarPSqMi         18.810465\n",
       "RetailPSqMi     100.671642\n",
       "Pop            1429.434483\n",
       "PopDens1k        30.116554\n",
       "pMale            50.777812\n",
       "pHHPov           12.613312\n",
       "VacantHU          7.419983\n",
       "SqMiles           0.081697\n",
       "dtype: float64"
      ]
     },
     "execution_count": 31,
     "metadata": {},
     "output_type": "execute_result"
    }
   ],
   "source": [
    "gdf.mean()"
   ]
  },
  {
   "cell_type": "code",
   "execution_count": 32,
   "metadata": {
    "collapsed": false
   },
   "outputs": [],
   "source": [
    "data=gdf.drop('geometry',1)\n",
    "#geo=gdf[['geometry']]\n",
    "data.to_csv('InputDataset.csv')\n",
    "#geo.reset_index().to_file('BG_Geometry.shp')"
   ]
  }
 ],
 "metadata": {
  "kernelspec": {
   "display_name": "Python 2",
   "language": "python",
   "name": "python2"
  },
  "language_info": {
   "codemirror_mode": {
    "name": "ipython",
    "version": 2
   },
   "file_extension": ".py",
   "mimetype": "text/x-python",
   "name": "python",
   "nbconvert_exporter": "python",
   "pygments_lexer": "ipython2",
   "version": "2.7.11"
  }
 },
 "nbformat": 4,
 "nbformat_minor": 0
}
