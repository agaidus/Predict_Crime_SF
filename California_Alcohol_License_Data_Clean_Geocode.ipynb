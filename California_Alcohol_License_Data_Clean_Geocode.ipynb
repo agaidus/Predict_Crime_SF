{
 "cells": [
  {
   "cell_type": "markdown",
   "metadata": {},
   "source": [
    "# Reading In and Cleaning California Alcohol Outlet Data\n",
    "\n",
    "## Introduction\n",
    "The California Alcohol Beverage Control maintains a [dataset](http://www.abc.ca.gov/datport/DataExport.html) of the current list of alcohol licenses in the state, which is exported weekly. This includes a wide range of license types for various on-premise or off-premise alcohol, each of which carries different privileges (beer only, winegrower, restaurant, etc). A single location can hold multiple license types (a wine grower can also sell wine, a restaurant can also have a bar, etc). The research organization I work for uses this type of data to study spatial relationships between sources of alcohol and alcohol related problems. \n",
    "\n",
    "Because of the way that this data is formatted, there are a number of steps that need to be taken along the way before it finds itself in a usable form. ```Pandas```, ```Geopandas```, and ```Geopy``` make this process relatively easy, as I demonstrate below. In the following notebook, I will:\n",
    "\n",
    "1. Download the most recent export of California alcohol license data\n",
    "2. Read in the fixed-with text file into Pandas\n",
    "3. Aggregate license-level data to location-level data, identifying locations of three types of active alcohol outlets: off-premise outlets (liquor stores), bars, and restaurants. \n",
    "4. Geocode and get the lat/long coordinates of a subset of the data - all bars in San Francisco\n",
    "5. Convert lat / long coordinates to projected GeoSeries as part of GeoDataFrame\n",
    "6. Overlay point locations with a shapefile of SF neighborhoods to look at bar densities\n",
    "7. Make a simple map using the built-in plotting feature in GeoPandas\n",
    "8. Export the data as a shapefile for future use\n"
   ]
  },
  {
   "cell_type": "code",
   "execution_count": 23,
   "metadata": {
    "collapsed": true
   },
   "outputs": [],
   "source": [
    "#import necessary modules\n",
    "%matplotlib inline\n",
    "import zipfile, os, urllib\n",
    "import pandas as pd\n",
    "import numpy as np\n",
    "import geopandas as gpd\n",
    "import geopy\n",
    "import os\n",
    "import shapely\n",
    "from shapely.geometry import Point\n",
    "import geopandas.tools\n",
    "import matplotlib.pyplot as plt\n"
   ]
  },
  {
   "cell_type": "markdown",
   "metadata": {},
   "source": [
    "## Download Raw Alcohol License Data\n",
    "Below I create a data directory and use ```urllib``` to dowload the data export and then ```zipfile``` to unzip it (if this hasn't been done already). I extract and print the name of the raw file which is an LST file. An LST file is just a plain text file that gets exported from some database programs."
   ]
  },
  {
   "cell_type": "code",
   "execution_count": 24,
   "metadata": {
    "collapsed": false
   },
   "outputs": [
    {
     "name": "stdout",
     "output_type": "stream",
     "text": [
      "Data/m_tape460.LST\n"
     ]
    }
   ],
   "source": [
    "if not os.path.exists('Data'):\n",
    "    os.mkdir('Data')\n",
    "\n",
    "URL='https://www.abc.ca.gov/datport/ABC_Data_Export.zip'\n",
    "zip_file='Data/'+os.path.basename(URL)\n",
    "if not os.path.exists(zip_file):\n",
    "    urllib.urlretrieve(URL,zip_file)\n",
    "\n",
    "z=zipfile.ZipFile(zip_file)\n",
    "\n",
    "rawfile=[Item for Item in z.namelist()][0]\n",
    "if not os.path.exists('Data/'+rawfile):\n",
    "    z.extract(rawfile, 'Data')\n",
    "rawfile='Data/'+rawfile\n",
    "print rawfile"
   ]
  },
  {
   "cell_type": "markdown",
   "metadata": {},
   "source": [
    "## Read in Data to Pandas\n",
    "The ABC website contains (link above) contains a document that length of each field in the text file. The text file is in fixed-with format, which means that field lengths need to be specified in order for the data to be parsed correctly. Below I create lists that contain the length of each field as well as the name of each field."
   ]
  },
  {
   "cell_type": "code",
   "execution_count": 25,
   "metadata": {
    "collapsed": false
   },
   "outputs": [],
   "source": [
    "col_lengths=[2,8,3,8,11,11,8,3,1,2,4,2,50,50,50,25,2,10,50,50,50,25,2,10,16,7]\n",
    "col_names=['LicenseType','FileNum','LicenseOrApp','Status','OrigIssueDate','ExpirDate',\\\n",
    "           'FeeCodes','DupCounts','MasterIndicator','TermMonths','GeoCode','DistrictCode',\\\n",
    "           'pName','pAddress1','pAddress2','pCity','pState','pZip','DBAName','mAddress1',\\\n",
    "           'mAddress2','mCity','mState','mZip','pCounty','CensusTract']\n",
    "\n"
   ]
  },
  {
   "cell_type": "markdown",
   "metadata": {},
   "source": [
    "Pandas can read in fixed width format files, but prefers to have the columns specified as a range of character positions, rather than a width. This is more flexible because it allows for gaps in the file that don't represent any data. Because there are no such gaps in the ABC data, the columns all butt up against each other and I can write a simple function that converts a list of widths to a list of ranges."
   ]
  },
  {
   "cell_type": "code",
   "execution_count": 26,
   "metadata": {
    "collapsed": false
   },
   "outputs": [
    {
     "name": "stdout",
     "output_type": "stream",
     "text": [
      "[(0, 2), (2, 10), (10, 13), (13, 21), (21, 32), (32, 43), (43, 51), (51, 54), (54, 55), (55, 57), (57, 61), (61, 63), (63, 113), (113, 163), (163, 213), (213, 238), (238, 240), (240, 250), (250, 300), (300, 350), (350, 400), (400, 425), (425, 427), (427, 437), (437, 453), (453, 460)]\n"
     ]
    }
   ],
   "source": [
    "def length_to_range(length_list):\n",
    "    col_ranges=[]\n",
    "    i=0\n",
    "    for length in length_list:\n",
    "       col_range=(i,length+i)\n",
    "       col_ranges.append(col_range)\n",
    "       i=i+length\n",
    "    return col_ranges\n",
    "\n",
    "col_ranges=length_to_range(col_lengths)\n",
    "print col_ranges"
   ]
  },
  {
   "cell_type": "markdown",
   "metadata": {},
   "source": [
    "I am then ready to read in the text file to ```Pandas``` using the 'colspecs' argument to specify these newly calculated column ranges, and 'names' to specify column names. I subset the data to include relevant columns and set the index as the identifier 'FileNum', which is an identifier for each unique license holder (not license)."
   ]
  },
  {
   "cell_type": "code",
   "execution_count": 27,
   "metadata": {
    "collapsed": false
   },
   "outputs": [
    {
     "data": {
      "text/html": [
       "<div>\n",
       "<table border=\"1\" class=\"dataframe\">\n",
       "  <thead>\n",
       "    <tr style=\"text-align: right;\">\n",
       "      <th></th>\n",
       "      <th>LicenseType</th>\n",
       "      <th>Status</th>\n",
       "      <th>DBAName</th>\n",
       "      <th>pName</th>\n",
       "      <th>pAddress1</th>\n",
       "      <th>pCity</th>\n",
       "      <th>pState</th>\n",
       "      <th>pZip</th>\n",
       "      <th>pCounty</th>\n",
       "    </tr>\n",
       "    <tr>\n",
       "      <th>FileNum</th>\n",
       "      <th></th>\n",
       "      <th></th>\n",
       "      <th></th>\n",
       "      <th></th>\n",
       "      <th></th>\n",
       "      <th></th>\n",
       "      <th></th>\n",
       "      <th></th>\n",
       "      <th></th>\n",
       "    </tr>\n",
       "  </thead>\n",
       "  <tbody>\n",
       "    <tr>\n",
       "      <th>100196</th>\n",
       "      <td>20</td>\n",
       "      <td>SUREND</td>\n",
       "      <td>NaN</td>\n",
       "      <td>MEZA  ALFREDO T</td>\n",
       "      <td>82675 INDIO BLVD</td>\n",
       "      <td>INDIO</td>\n",
       "      <td>CA</td>\n",
       "      <td>92201</td>\n",
       "      <td>RIVERSIDE</td>\n",
       "    </tr>\n",
       "    <tr>\n",
       "      <th>100275</th>\n",
       "      <td>20</td>\n",
       "      <td>ACTIVE</td>\n",
       "      <td>MILLERS AM PM</td>\n",
       "      <td>D MILLER INC</td>\n",
       "      <td>1391 FLORIN RD</td>\n",
       "      <td>SACRAMENTO</td>\n",
       "      <td>CA</td>\n",
       "      <td>95822</td>\n",
       "      <td>SACRAMENTO</td>\n",
       "    </tr>\n",
       "    <tr>\n",
       "      <th>100297</th>\n",
       "      <td>41</td>\n",
       "      <td>ACTIVE</td>\n",
       "      <td>ROUND TABLE PIZZA</td>\n",
       "      <td>WYVERN RESTAURANTS INC</td>\n",
       "      <td>1351 HEALDSBURG AVE</td>\n",
       "      <td>HEALDSBURG</td>\n",
       "      <td>CA</td>\n",
       "      <td>95448</td>\n",
       "      <td>SONOMA</td>\n",
       "    </tr>\n",
       "    <tr>\n",
       "      <th>100298</th>\n",
       "      <td>41</td>\n",
       "      <td>ACTIVE</td>\n",
       "      <td>ROUND TABLE PIZZA</td>\n",
       "      <td>WYVERN RESTAURANTS INC</td>\n",
       "      <td>821 11TH ST</td>\n",
       "      <td>LAKEPORT</td>\n",
       "      <td>CA</td>\n",
       "      <td>95453</td>\n",
       "      <td>LAKE</td>\n",
       "    </tr>\n",
       "    <tr>\n",
       "      <th>100306</th>\n",
       "      <td>9</td>\n",
       "      <td>ACTIVE</td>\n",
       "      <td>GILLESPIE DISTRIBUTING COMPANY INC</td>\n",
       "      <td>GILLESPIE DISTRIBUTING COMPANY INC</td>\n",
       "      <td>486 E LINE ST</td>\n",
       "      <td>BISHOP</td>\n",
       "      <td>CA</td>\n",
       "      <td>93514</td>\n",
       "      <td>INYO</td>\n",
       "    </tr>\n",
       "  </tbody>\n",
       "</table>\n",
       "</div>"
      ],
      "text/plain": [
       "         LicenseType  Status                             DBAName  \\\n",
       "FileNum                                                            \n",
       "100196            20  SUREND                                 NaN   \n",
       "100275            20  ACTIVE                       MILLERS AM PM   \n",
       "100297            41  ACTIVE                   ROUND TABLE PIZZA   \n",
       "100298            41  ACTIVE                   ROUND TABLE PIZZA   \n",
       "100306             9  ACTIVE  GILLESPIE DISTRIBUTING COMPANY INC   \n",
       "\n",
       "                                      pName            pAddress1       pCity  \\\n",
       "FileNum                                                                        \n",
       "100196                      MEZA  ALFREDO T     82675 INDIO BLVD       INDIO   \n",
       "100275                         D MILLER INC       1391 FLORIN RD  SACRAMENTO   \n",
       "100297               WYVERN RESTAURANTS INC  1351 HEALDSBURG AVE  HEALDSBURG   \n",
       "100298               WYVERN RESTAURANTS INC          821 11TH ST    LAKEPORT   \n",
       "100306   GILLESPIE DISTRIBUTING COMPANY INC        486 E LINE ST      BISHOP   \n",
       "\n",
       "        pState   pZip     pCounty  \n",
       "FileNum                            \n",
       "100196      CA  92201   RIVERSIDE  \n",
       "100275      CA  95822  SACRAMENTO  \n",
       "100297      CA  95448      SONOMA  \n",
       "100298      CA  95453        LAKE  \n",
       "100306      CA  93514        INYO  "
      ]
     },
     "execution_count": 27,
     "metadata": {},
     "output_type": "execute_result"
    }
   ],
   "source": [
    "df=pd.read_fwf(rawfile, colspecs=col_ranges, names=col_names)\n",
    "df=df[['LicenseType','FileNum','Status','DBAName','pName','pAddress1','pCity','pState','pZip','pCounty']].set_index('FileNum')\n",
    "df.head()"
   ]
  },
  {
   "cell_type": "markdown",
   "metadata": {},
   "source": [
    "## Aggregating License Data to Outlet Data\n",
    "The index \"FileNum\" is not unique as it represents license holders, which as mentioned can hold multiple licenses. As we see below, there are almost 20,000 more licenses than license holders."
   ]
  },
  {
   "cell_type": "code",
   "execution_count": 28,
   "metadata": {
    "collapsed": false
   },
   "outputs": [
    {
     "name": "stdout",
     "output_type": "stream",
     "text": [
      "111729 88438\n"
     ]
    }
   ],
   "source": [
    "print len(df), len(df.index.unique())"
   ]
  },
  {
   "cell_type": "markdown",
   "metadata": {},
   "source": [
    "Therefore, within each \"FileNum\" group, license type and license status will be unique, but the other fields (Name, Address, etc.) should all be the same. I will first group by file number to get the unique locations, and will then join identifiers for bar, restaurant, and off-premise to this dataset. The dataframe below represents the unique set of license locations."
   ]
  },
  {
   "cell_type": "code",
   "execution_count": 29,
   "metadata": {
    "collapsed": false
   },
   "outputs": [
    {
     "data": {
      "text/html": [
       "<div>\n",
       "<table border=\"1\" class=\"dataframe\">\n",
       "  <thead>\n",
       "    <tr style=\"text-align: right;\">\n",
       "      <th></th>\n",
       "      <th>DBAName</th>\n",
       "      <th>pName</th>\n",
       "      <th>pAddress1</th>\n",
       "      <th>pCity</th>\n",
       "      <th>pState</th>\n",
       "      <th>pZip</th>\n",
       "      <th>pCounty</th>\n",
       "    </tr>\n",
       "    <tr>\n",
       "      <th>FileNum</th>\n",
       "      <th></th>\n",
       "      <th></th>\n",
       "      <th></th>\n",
       "      <th></th>\n",
       "      <th></th>\n",
       "      <th></th>\n",
       "      <th></th>\n",
       "    </tr>\n",
       "  </thead>\n",
       "  <tbody>\n",
       "    <tr>\n",
       "      <th>4</th>\n",
       "      <td>NaN</td>\n",
       "      <td>PELLEGRINI BROS WINES INC</td>\n",
       "      <td>272 S MAPLE AVE</td>\n",
       "      <td>SOUTH SAN FRANCISCO</td>\n",
       "      <td>CA</td>\n",
       "      <td>94080</td>\n",
       "      <td>SAN MATEO</td>\n",
       "    </tr>\n",
       "    <tr>\n",
       "      <th>94</th>\n",
       "      <td>CASK N CLEAVER</td>\n",
       "      <td>C &amp; C ORGANIZATION THE</td>\n",
       "      <td>8689 9TH ST</td>\n",
       "      <td>RANCHO CUCAMONGA</td>\n",
       "      <td>CA</td>\n",
       "      <td>91730</td>\n",
       "      <td>SAN BERNARDINO</td>\n",
       "    </tr>\n",
       "    <tr>\n",
       "      <th>123</th>\n",
       "      <td>CLASS OF 47</td>\n",
       "      <td>CINNAMON TEAL CORP</td>\n",
       "      <td>209 PALM ST</td>\n",
       "      <td>NEWPORT BEACH</td>\n",
       "      <td>CA</td>\n",
       "      <td>92661-1213</td>\n",
       "      <td>ORANGE</td>\n",
       "    </tr>\n",
       "    <tr>\n",
       "      <th>131</th>\n",
       "      <td>QUAIL LODGE</td>\n",
       "      <td>QUAIL LODGE INC</td>\n",
       "      <td>8205 VALLEY GREENS DR</td>\n",
       "      <td>CARMEL</td>\n",
       "      <td>CA</td>\n",
       "      <td>93923</td>\n",
       "      <td>MONTEREY</td>\n",
       "    </tr>\n",
       "    <tr>\n",
       "      <th>170</th>\n",
       "      <td>TIFFYS FAMILY RESTAURANT</td>\n",
       "      <td>HATHAWAY  BENJAMIN H JR</td>\n",
       "      <td>1060 W KATELLA AVE</td>\n",
       "      <td>ANAHEIM</td>\n",
       "      <td>CA</td>\n",
       "      <td>92802</td>\n",
       "      <td>ORANGE</td>\n",
       "    </tr>\n",
       "  </tbody>\n",
       "</table>\n",
       "</div>"
      ],
      "text/plain": [
       "                          DBAName                      pName  \\\n",
       "FileNum                                                        \n",
       "4                             NaN  PELLEGRINI BROS WINES INC   \n",
       "94                 CASK N CLEAVER     C & C ORGANIZATION THE   \n",
       "123                   CLASS OF 47         CINNAMON TEAL CORP   \n",
       "131                   QUAIL LODGE            QUAIL LODGE INC   \n",
       "170      TIFFYS FAMILY RESTAURANT    HATHAWAY  BENJAMIN H JR   \n",
       "\n",
       "                     pAddress1                pCity pState        pZip  \\\n",
       "FileNum                                                                  \n",
       "4              272 S MAPLE AVE  SOUTH SAN FRANCISCO     CA       94080   \n",
       "94                 8689 9TH ST     RANCHO CUCAMONGA     CA       91730   \n",
       "123                209 PALM ST        NEWPORT BEACH     CA  92661-1213   \n",
       "131      8205 VALLEY GREENS DR               CARMEL     CA       93923   \n",
       "170         1060 W KATELLA AVE              ANAHEIM     CA       92802   \n",
       "\n",
       "                pCounty  \n",
       "FileNum                  \n",
       "4             SAN MATEO  \n",
       "94       SAN BERNARDINO  \n",
       "123              ORANGE  \n",
       "131            MONTEREY  \n",
       "170              ORANGE  "
      ]
     },
     "execution_count": 29,
     "metadata": {},
     "output_type": "execute_result"
    }
   ],
   "source": [
    "outlet_data=df[[x for x in df.columns if x not in ['LicenseType','Status']]].groupby(level='FileNum').first()\n",
    "outlet_data.head()"
   ]
  },
  {
   "cell_type": "markdown",
   "metadata": {},
   "source": [
    "The next step is then to determine which of these unique locations fall into one of the 3 outlet categories. We also need to be aware of the fact that not all licenses in the dataset are active licenses - a single location can hold an active off-sale license and an expired bar license, for example. The list of license statuses are shown below. I choose to consider any license listed as \"ACTIVE\" as being an active license."
   ]
  },
  {
   "cell_type": "code",
   "execution_count": 30,
   "metadata": {
    "collapsed": false
   },
   "outputs": [
    {
     "data": {
      "text/plain": [
       "ACTIVE    102803\n",
       "PEND        5987\n",
       "SUREND      2503\n",
       "SUSPEN       213\n",
       "REVPEN       132\n",
       "R64B          90\n",
       "SLMSHD         1\n",
       "dtype: int64"
      ]
     },
     "execution_count": 30,
     "metadata": {},
     "output_type": "execute_result"
    }
   ],
   "source": [
    "df.Status.value_counts()"
   ]
  },
  {
   "cell_type": "markdown",
   "metadata": {},
   "source": [
    "The ABC website also contains descriptions of license type numbers found [here](http://www.abc.ca.gov/permits/licensetypes.html). It is fairly straightforward to decide which license numbers fall into each of the 3 categories - off-premise, restaurant, bar. I create a dictionary below that contains the lists of license types in each categories."
   ]
  },
  {
   "cell_type": "code",
   "execution_count": 31,
   "metadata": {
    "collapsed": true
   },
   "outputs": [],
   "source": [
    "outlet_types={'OffPremise':[20,21], 'Rest':[41,47],'Bar':[40,42,48,61,75]}"
   ]
  },
  {
   "cell_type": "markdown",
   "metadata": {},
   "source": [
    "Now I will loop through each of the 3 outlet categories to check for active codes in each category's list of types. I query the license data to identify those that have a license type in each set of codes, and a status that is active. I then group by the file number specifiying that ```any``` of the licenses within a location can satisfy this query. This results in a boolean indexed by ```FileNum``` which is then just converted to an integer and added to the location level dataframe. As you can see below, our dataframe now has fields that indicate whether or not a location holds a license in one of those 3 categories we defined."
   ]
  },
  {
   "cell_type": "code",
   "execution_count": 32,
   "metadata": {
    "collapsed": false
   },
   "outputs": [
    {
     "data": {
      "text/html": [
       "<div>\n",
       "<table border=\"1\" class=\"dataframe\">\n",
       "  <thead>\n",
       "    <tr style=\"text-align: right;\">\n",
       "      <th></th>\n",
       "      <th>DBAName</th>\n",
       "      <th>pName</th>\n",
       "      <th>pAddress1</th>\n",
       "      <th>pCity</th>\n",
       "      <th>pState</th>\n",
       "      <th>pZip</th>\n",
       "      <th>pCounty</th>\n",
       "      <th>Bar</th>\n",
       "      <th>Rest</th>\n",
       "      <th>OffPremise</th>\n",
       "    </tr>\n",
       "    <tr>\n",
       "      <th>FileNum</th>\n",
       "      <th></th>\n",
       "      <th></th>\n",
       "      <th></th>\n",
       "      <th></th>\n",
       "      <th></th>\n",
       "      <th></th>\n",
       "      <th></th>\n",
       "      <th></th>\n",
       "      <th></th>\n",
       "      <th></th>\n",
       "    </tr>\n",
       "  </thead>\n",
       "  <tbody>\n",
       "    <tr>\n",
       "      <th>4</th>\n",
       "      <td>NaN</td>\n",
       "      <td>PELLEGRINI BROS WINES INC</td>\n",
       "      <td>272 S MAPLE AVE</td>\n",
       "      <td>SOUTH SAN FRANCISCO</td>\n",
       "      <td>CA</td>\n",
       "      <td>94080</td>\n",
       "      <td>SAN MATEO</td>\n",
       "      <td>0</td>\n",
       "      <td>0</td>\n",
       "      <td>0</td>\n",
       "    </tr>\n",
       "    <tr>\n",
       "      <th>94</th>\n",
       "      <td>CASK N CLEAVER</td>\n",
       "      <td>C &amp; C ORGANIZATION THE</td>\n",
       "      <td>8689 9TH ST</td>\n",
       "      <td>RANCHO CUCAMONGA</td>\n",
       "      <td>CA</td>\n",
       "      <td>91730</td>\n",
       "      <td>SAN BERNARDINO</td>\n",
       "      <td>0</td>\n",
       "      <td>1</td>\n",
       "      <td>0</td>\n",
       "    </tr>\n",
       "    <tr>\n",
       "      <th>123</th>\n",
       "      <td>CLASS OF 47</td>\n",
       "      <td>CINNAMON TEAL CORP</td>\n",
       "      <td>209 PALM ST</td>\n",
       "      <td>NEWPORT BEACH</td>\n",
       "      <td>CA</td>\n",
       "      <td>92661-1213</td>\n",
       "      <td>ORANGE</td>\n",
       "      <td>1</td>\n",
       "      <td>0</td>\n",
       "      <td>0</td>\n",
       "    </tr>\n",
       "    <tr>\n",
       "      <th>131</th>\n",
       "      <td>QUAIL LODGE</td>\n",
       "      <td>QUAIL LODGE INC</td>\n",
       "      <td>8205 VALLEY GREENS DR</td>\n",
       "      <td>CARMEL</td>\n",
       "      <td>CA</td>\n",
       "      <td>93923</td>\n",
       "      <td>MONTEREY</td>\n",
       "      <td>0</td>\n",
       "      <td>1</td>\n",
       "      <td>0</td>\n",
       "    </tr>\n",
       "    <tr>\n",
       "      <th>170</th>\n",
       "      <td>TIFFYS FAMILY RESTAURANT</td>\n",
       "      <td>HATHAWAY  BENJAMIN H JR</td>\n",
       "      <td>1060 W KATELLA AVE</td>\n",
       "      <td>ANAHEIM</td>\n",
       "      <td>CA</td>\n",
       "      <td>92802</td>\n",
       "      <td>ORANGE</td>\n",
       "      <td>0</td>\n",
       "      <td>1</td>\n",
       "      <td>0</td>\n",
       "    </tr>\n",
       "  </tbody>\n",
       "</table>\n",
       "</div>"
      ],
      "text/plain": [
       "                          DBAName                      pName  \\\n",
       "FileNum                                                        \n",
       "4                             NaN  PELLEGRINI BROS WINES INC   \n",
       "94                 CASK N CLEAVER     C & C ORGANIZATION THE   \n",
       "123                   CLASS OF 47         CINNAMON TEAL CORP   \n",
       "131                   QUAIL LODGE            QUAIL LODGE INC   \n",
       "170      TIFFYS FAMILY RESTAURANT    HATHAWAY  BENJAMIN H JR   \n",
       "\n",
       "                     pAddress1                pCity pState        pZip  \\\n",
       "FileNum                                                                  \n",
       "4              272 S MAPLE AVE  SOUTH SAN FRANCISCO     CA       94080   \n",
       "94                 8689 9TH ST     RANCHO CUCAMONGA     CA       91730   \n",
       "123                209 PALM ST        NEWPORT BEACH     CA  92661-1213   \n",
       "131      8205 VALLEY GREENS DR               CARMEL     CA       93923   \n",
       "170         1060 W KATELLA AVE              ANAHEIM     CA       92802   \n",
       "\n",
       "                pCounty  Bar  Rest  OffPremise  \n",
       "FileNum                                         \n",
       "4             SAN MATEO    0     0           0  \n",
       "94       SAN BERNARDINO    0     1           0  \n",
       "123              ORANGE    1     0           0  \n",
       "131            MONTEREY    0     1           0  \n",
       "170              ORANGE    0     1           0  "
      ]
     },
     "execution_count": 32,
     "metadata": {},
     "output_type": "execute_result"
    }
   ],
   "source": [
    "for outlet_type in outlet_types:\n",
    "    codes=outlet_types[outlet_type]\n",
    "    active_lictype=((df['LicenseType'].isin(codes))&(df['Status']=='ACTIVE')).groupby(level='FileNum').any()\n",
    "    outlet_data[outlet_type]=active_lictype.astype(int)\n",
    "outlet_data.head()"
   ]
  },
  {
   "cell_type": "markdown",
   "metadata": {},
   "source": [
    "Total counts of locations in each of those 3 categories can be seen below:"
   ]
  },
  {
   "cell_type": "code",
   "execution_count": 33,
   "metadata": {
    "collapsed": false
   },
   "outputs": [
    {
     "data": {
      "text/plain": [
       "Bar            4925\n",
       "Rest          37460\n",
       "OffPremise    27528\n",
       "dtype: int64"
      ]
     },
     "execution_count": 33,
     "metadata": {},
     "output_type": "execute_result"
    }
   ],
   "source": [
    "outlet_data[outlet_types.keys()].sum()"
   ]
  },
  {
   "cell_type": "markdown",
   "metadata": {},
   "source": [
    "## Geocoding Bars in San Francisco\n",
    "Now we have a dataframe that contains for each unique location in California that holds a liquor license, the outlet name, address, and indicators for whether that location is an active bar, restaurant, or off-premise outlet (as defined by my previous license type categorizations). The piece of useful information would be to have the actual point locations of these locations. For this example, I focus only on bars within San Francisco. I write a function that wraps ```geopy``` and geocodes a Pandas series of addresses.\n",
    "\n",
    "First I subset my dad to get only the bars within San Francisco, of which there are 433 according to this data."
   ]
  },
  {
   "cell_type": "code",
   "execution_count": 34,
   "metadata": {
    "collapsed": false
   },
   "outputs": [
    {
     "name": "stdout",
     "output_type": "stream",
     "text": [
      "433\n"
     ]
    },
    {
     "data": {
      "text/html": [
       "<div>\n",
       "<table border=\"1\" class=\"dataframe\">\n",
       "  <thead>\n",
       "    <tr style=\"text-align: right;\">\n",
       "      <th></th>\n",
       "      <th>DBAName</th>\n",
       "      <th>pName</th>\n",
       "      <th>pAddress1</th>\n",
       "      <th>pCity</th>\n",
       "      <th>pState</th>\n",
       "      <th>pZip</th>\n",
       "      <th>pCounty</th>\n",
       "    </tr>\n",
       "    <tr>\n",
       "      <th>FileNum</th>\n",
       "      <th></th>\n",
       "      <th></th>\n",
       "      <th></th>\n",
       "      <th></th>\n",
       "      <th></th>\n",
       "      <th></th>\n",
       "      <th></th>\n",
       "    </tr>\n",
       "  </thead>\n",
       "  <tbody>\n",
       "    <tr>\n",
       "      <th>1352</th>\n",
       "      <td>SAM JORDANS BAR</td>\n",
       "      <td>SAM JORDAN OF CALIFORNIA CATERING I</td>\n",
       "      <td>4004 3RD ST</td>\n",
       "      <td>SAN FRANCISCO</td>\n",
       "      <td>CA</td>\n",
       "      <td>94124-2129</td>\n",
       "      <td>SAN FRANCISCO</td>\n",
       "    </tr>\n",
       "    <tr>\n",
       "      <th>6237</th>\n",
       "      <td>MOBY DICK</td>\n",
       "      <td>DAVIC INC</td>\n",
       "      <td>4049 18TH ST</td>\n",
       "      <td>SAN FRANCISCO</td>\n",
       "      <td>CA</td>\n",
       "      <td>94114-2501</td>\n",
       "      <td>SAN FRANCISCO</td>\n",
       "    </tr>\n",
       "    <tr>\n",
       "      <th>7049</th>\n",
       "      <td>BUDDHA LOUNGE</td>\n",
       "      <td>BUDDHA LOUNGE INC</td>\n",
       "      <td>901 GRANT AVE</td>\n",
       "      <td>SAN FRANCISCO</td>\n",
       "      <td>CA</td>\n",
       "      <td>94108</td>\n",
       "      <td>SAN FRANCISCO</td>\n",
       "    </tr>\n",
       "    <tr>\n",
       "      <th>8110</th>\n",
       "      <td>LITTLE SHAMROCK</td>\n",
       "      <td>LITTLE SHAMROCK INC</td>\n",
       "      <td>807 LINCOLN WAY</td>\n",
       "      <td>SAN FRANCISCO</td>\n",
       "      <td>CA</td>\n",
       "      <td>94122</td>\n",
       "      <td>SAN FRANCISCO</td>\n",
       "    </tr>\n",
       "    <tr>\n",
       "      <th>9757</th>\n",
       "      <td>SAN FRANCISCO ODD FELLOWS CLUB</td>\n",
       "      <td>SAN FRANCISCO ODD FELLOWS CLUB</td>\n",
       "      <td>26 7TH ST</td>\n",
       "      <td>SAN FRANCISCO</td>\n",
       "      <td>CA</td>\n",
       "      <td>94103</td>\n",
       "      <td>SAN FRANCISCO</td>\n",
       "    </tr>\n",
       "  </tbody>\n",
       "</table>\n",
       "</div>"
      ],
      "text/plain": [
       "                                DBAName                                pName  \\\n",
       "FileNum                                                                        \n",
       "1352                    SAM JORDANS BAR  SAM JORDAN OF CALIFORNIA CATERING I   \n",
       "6237                          MOBY DICK                            DAVIC INC   \n",
       "7049                      BUDDHA LOUNGE                    BUDDHA LOUNGE INC   \n",
       "8110                    LITTLE SHAMROCK                  LITTLE SHAMROCK INC   \n",
       "9757     SAN FRANCISCO ODD FELLOWS CLUB       SAN FRANCISCO ODD FELLOWS CLUB   \n",
       "\n",
       "               pAddress1          pCity pState        pZip        pCounty  \n",
       "FileNum                                                                    \n",
       "1352         4004 3RD ST  SAN FRANCISCO     CA  94124-2129  SAN FRANCISCO  \n",
       "6237        4049 18TH ST  SAN FRANCISCO     CA  94114-2501  SAN FRANCISCO  \n",
       "7049       901 GRANT AVE  SAN FRANCISCO     CA       94108  SAN FRANCISCO  \n",
       "8110     807 LINCOLN WAY  SAN FRANCISCO     CA       94122  SAN FRANCISCO  \n",
       "9757           26 7TH ST  SAN FRANCISCO     CA       94103  SAN FRANCISCO  "
      ]
     },
     "execution_count": 34,
     "metadata": {},
     "output_type": "execute_result"
    }
   ],
   "source": [
    "sf_bars=outlet_data[(outlet_data.Bar==1)&(outlet_data.pCity=='SAN FRANCISCO')].drop(['Bar','Rest','OffPremise'],1)\n",
    "print len(sf_bars)\n",
    "sf_bars.head()\n"
   ]
  },
  {
   "cell_type": "markdown",
   "metadata": {},
   "source": [
    "Now I write a function that wraps ```geopy```, which itself wraps the geocoding API's of several other sources. I choose to use a locator that uses the Google API. The output of the function is a Pandas dataframe that contains the cleaned match address, x and y coordinates, and a field that identifies the type of match that Google made (rooftop, approximate, range-interpolated, etc). "
   ]
  },
  {
   "cell_type": "code",
   "execution_count": 35,
   "metadata": {
    "collapsed": true
   },
   "outputs": [],
   "source": [
    "def geocode_google_add(addresses, key=None):\n",
    "    google_locator=geopy.geocoders.GoogleV3(api_key=key) #define locator using google api\n",
    "    outputcols=['match_addr', 'x','y','loc_type'] #list columns for output dataframe\n",
    "    match_result=pd.DataFrame(columns=outputcols) #define output dataframe\n",
    "    for i,row in addresses.iteritems(): # loop through addresses in series\n",
    "        try: \n",
    "            location = google_locator.geocode(row) #try geocoding the address\n",
    "            if location: #if it geocodes, add it's location information to the dataframe\n",
    "                outputvals=[location.address,location.longitude, location.latitude, location.raw['geometry']['location_type']]\n",
    "                match_result.loc[i]=outputvals\n",
    "            else: #if it does not find a location, leave the location fields blank\n",
    "                match_result.loc[i]=[None]*len(outputcols)\n",
    "        except Exception, e: # catch geocoding errors and print an error message\n",
    "            match_result.loc[i]=[None]*len(outputcols)\n",
    "            print 'Failed at ID '+str(i)\n",
    "            print e\n",
    "            break\n",
    "    return match_result"
   ]
  },
  {
   "cell_type": "markdown",
   "metadata": {},
   "source": [
    "The current dataset has separate fields for address components. I concatenate these into one address field that will be used as the input to the geocoding function."
   ]
  },
  {
   "cell_type": "code",
   "execution_count": 36,
   "metadata": {
    "collapsed": false
   },
   "outputs": [
    {
     "data": {
      "text/plain": [
       "FileNum\n",
       "1352     4004 3RD ST, SAN FRANCISCO, CA 94124-2129\n",
       "6237    4049 18TH ST, SAN FRANCISCO, CA 94114-2501\n",
       "7049        901 GRANT AVE, SAN FRANCISCO, CA 94108\n",
       "8110      807 LINCOLN WAY, SAN FRANCISCO, CA 94122\n",
       "9757            26 7TH ST, SAN FRANCISCO, CA 94103\n",
       "dtype: object"
      ]
     },
     "execution_count": 36,
     "metadata": {},
     "output_type": "execute_result"
    }
   ],
   "source": [
    "bar_addresses=sf_bars['pAddress1']+', '+sf_bars['pCity']+', '+sf_bars['pState']+' '+sf_bars['pZip']\n",
    "bar_addresses.head()"
   ]
  },
  {
   "cell_type": "markdown",
   "metadata": {},
   "source": [
    "If the data has not been geocoded, I geocode the data using the function I defined and export it. Calculating frequencies on the location match type, we can see Google was able to geocode 93% of the input addresses to a rooftop location, 6% were range interpolated within a street block, and about 1% were somewhat more approximate locations."
   ]
  },
  {
   "cell_type": "code",
   "execution_count": 37,
   "metadata": {
    "collapsed": false
   },
   "outputs": [
    {
     "name": "stdout",
     "output_type": "stream",
     "text": [
      "ROOFTOP               0.926724\n",
      "RANGE_INTERPOLATED    0.062500\n",
      "APPROXIMATE           0.006466\n",
      "GEOMETRIC_CENTER      0.004310\n",
      "dtype: float64\n"
     ]
    }
   ],
   "source": [
    "geocode_output=\"Data/sf_bar_geocoded.p\"\n",
    "if not os.path.exists(geocode_output):\n",
    "    sf_bars_geocoded=geocode_google_add(bar_addresses)\n",
    "    sf_bars_geocoded.to_pickle(geocode_output)\n",
    "else:\n",
    "    sf_bars_geocoded=pd.read_pickle(geocode_output)\n",
    "print sf_bars_geocoded.loc_type.value_counts()/float(len(sf_bars_geocoded))"
   ]
  },
  {
   "cell_type": "markdown",
   "metadata": {},
   "source": [
    "When using the Google Geocoding API, I generally consider those that match as \"ROOFTOP\" or \"RANGE_INTERPOLATED\" to be valid matches, but do not consider \"APPROXIMATE\" or \"GEOMETRIC_CENTER\". The addresses geocoded quite well (99%), so I'm not going to worry about those that did not match."
   ]
  },
  {
   "cell_type": "code",
   "execution_count": 38,
   "metadata": {
    "collapsed": false
   },
   "outputs": [
    {
     "data": {
      "text/html": [
       "<div>\n",
       "<table border=\"1\" class=\"dataframe\">\n",
       "  <thead>\n",
       "    <tr style=\"text-align: right;\">\n",
       "      <th></th>\n",
       "      <th>match_addr</th>\n",
       "      <th>x</th>\n",
       "      <th>y</th>\n",
       "      <th>loc_type</th>\n",
       "    </tr>\n",
       "  </thead>\n",
       "  <tbody>\n",
       "    <tr>\n",
       "      <th>1352</th>\n",
       "      <td>4004 3rd St, San Francisco, CA 94124, USA</td>\n",
       "      <td>-122.388844</td>\n",
       "      <td>37.741046</td>\n",
       "      <td>ROOFTOP</td>\n",
       "    </tr>\n",
       "    <tr>\n",
       "      <th>6237</th>\n",
       "      <td>4049 18th St, San Francisco, CA 94114, USA</td>\n",
       "      <td>-122.433697</td>\n",
       "      <td>37.760806</td>\n",
       "      <td>ROOFTOP</td>\n",
       "    </tr>\n",
       "    <tr>\n",
       "      <th>7049</th>\n",
       "      <td>901 Grant Ave, San Francisco, CA 94108, USA</td>\n",
       "      <td>-122.406670</td>\n",
       "      <td>37.795279</td>\n",
       "      <td>ROOFTOP</td>\n",
       "    </tr>\n",
       "    <tr>\n",
       "      <th>8110</th>\n",
       "      <td>807 Lincoln Way, San Francisco, CA 94122, USA</td>\n",
       "      <td>-122.466713</td>\n",
       "      <td>37.765697</td>\n",
       "      <td>ROOFTOP</td>\n",
       "    </tr>\n",
       "    <tr>\n",
       "      <th>9757</th>\n",
       "      <td>26 7th St, San Francisco, CA 94103, USA</td>\n",
       "      <td>-122.412278</td>\n",
       "      <td>37.780007</td>\n",
       "      <td>ROOFTOP</td>\n",
       "    </tr>\n",
       "  </tbody>\n",
       "</table>\n",
       "</div>"
      ],
      "text/plain": [
       "                                         match_addr           x          y  \\\n",
       "1352      4004 3rd St, San Francisco, CA 94124, USA -122.388844  37.741046   \n",
       "6237     4049 18th St, San Francisco, CA 94114, USA -122.433697  37.760806   \n",
       "7049    901 Grant Ave, San Francisco, CA 94108, USA -122.406670  37.795279   \n",
       "8110  807 Lincoln Way, San Francisco, CA 94122, USA -122.466713  37.765697   \n",
       "9757        26 7th St, San Francisco, CA 94103, USA -122.412278  37.780007   \n",
       "\n",
       "     loc_type  \n",
       "1352  ROOFTOP  \n",
       "6237  ROOFTOP  \n",
       "7049  ROOFTOP  \n",
       "8110  ROOFTOP  \n",
       "9757  ROOFTOP  "
      ]
     },
     "execution_count": 38,
     "metadata": {},
     "output_type": "execute_result"
    }
   ],
   "source": [
    "sf_bars_matched=sf_bars_geocoded[sf_bars_geocoded.loc_type.isin(['ROOFTOP','RANGE_INTERPOLATED'])]\n",
    "sf_bars_matched.head()"
   ]
  },
  {
   "cell_type": "markdown",
   "metadata": {},
   "source": [
    "## Converting Geocoded Lat / Long Coordinates to GeoDataFrame\n",
    "The next step is to convert the lat/long coordinates to ```shapely``` geometry objects, which will then be built into a Geopandas GeoDataFrame. I've already imported ```Point``` from the ```shapely``` geometry set, so I can just go ahead and write a function that pulls the x and y coordinates from each geocoded address. I apply this function to the entire series and then get a series of ```shapely``` geometries as my output."
   ]
  },
  {
   "cell_type": "code",
   "execution_count": 39,
   "metadata": {
    "collapsed": false
   },
   "outputs": [
    {
     "data": {
      "text/plain": [
       "1352    POINT (-122.3888444 37.7410459)\n",
       "6237     POINT (-122.4336971 37.760806)\n",
       "7049       POINT (-122.40667 37.795279)\n",
       "8110    POINT (-122.4667128 37.7656969)\n",
       "9757    POINT (-122.4122782 37.7800072)\n",
       "dtype: object"
      ]
     },
     "execution_count": 39,
     "metadata": {},
     "output_type": "execute_result"
    }
   ],
   "source": [
    "geometry=sf_bars_geocoded.apply(lambda row:Point(row['x'],row['y']),1)\n",
    "geometry.head()"
   ]
  },
  {
   "cell_type": "markdown",
   "metadata": {},
   "source": [
    "Now I want to create a GeoDataframe that contains the attributes of the unique locations and the geometry that was just calculated from the x/y coordinates of the geocoded data. Because the geometry and the dataframe are both indexed the same (by FileNum) I can just specify the geometry as I define the GeoDataFrame. Also, since ```shapely``` geometries do not hold any information on the coordinate system they represent, I need to define the coordinate system as I create the GeoDataframe. I do this using EPSG codes. EPSG 4326 is code for WGS 84, which is the standard lat / long unprojected coordinate system. Also, within the same line, after defining the coordinate system of the ```shapely``` geometries, I convert to the projected coordinate system NAD 83 California Teale Albers (EPSG 3310). Documentation on spatial reference systems can be found [here](http://spatialreference.org/).\n",
    "\n",
    "Now I have a GeoDataFrame of all of the licensed bars in San Francisco projected in California Teale Albers."
   ]
  },
  {
   "cell_type": "code",
   "execution_count": 40,
   "metadata": {
    "collapsed": false
   },
   "outputs": [
    {
     "data": {
      "text/html": [
       "<div>\n",
       "<table border=\"1\" class=\"dataframe\">\n",
       "  <thead>\n",
       "    <tr style=\"text-align: right;\">\n",
       "      <th></th>\n",
       "      <th>DBAName</th>\n",
       "      <th>pName</th>\n",
       "      <th>pAddress1</th>\n",
       "      <th>pCity</th>\n",
       "      <th>pState</th>\n",
       "      <th>pZip</th>\n",
       "      <th>pCounty</th>\n",
       "      <th>geometry</th>\n",
       "    </tr>\n",
       "    <tr>\n",
       "      <th>FileNum</th>\n",
       "      <th></th>\n",
       "      <th></th>\n",
       "      <th></th>\n",
       "      <th></th>\n",
       "      <th></th>\n",
       "      <th></th>\n",
       "      <th></th>\n",
       "      <th></th>\n",
       "    </tr>\n",
       "  </thead>\n",
       "  <tbody>\n",
       "    <tr>\n",
       "      <th>1352</th>\n",
       "      <td>SAM JORDANS BAR</td>\n",
       "      <td>SAM JORDAN OF CALIFORNIA CATERING I</td>\n",
       "      <td>4004 3RD ST</td>\n",
       "      <td>SAN FRANCISCO</td>\n",
       "      <td>CA</td>\n",
       "      <td>94124-2129</td>\n",
       "      <td>SAN FRANCISCO</td>\n",
       "      <td>POINT (-210199.9582317903 -27958.10823745374)</td>\n",
       "    </tr>\n",
       "    <tr>\n",
       "      <th>6237</th>\n",
       "      <td>MOBY DICK</td>\n",
       "      <td>DAVIC INC</td>\n",
       "      <td>4049 18TH ST</td>\n",
       "      <td>SAN FRANCISCO</td>\n",
       "      <td>CA</td>\n",
       "      <td>94114-2501</td>\n",
       "      <td>SAN FRANCISCO</td>\n",
       "      <td>POINT (-214089.4110975648 -25661.79125331948)</td>\n",
       "    </tr>\n",
       "    <tr>\n",
       "      <th>7049</th>\n",
       "      <td>BUDDHA LOUNGE</td>\n",
       "      <td>BUDDHA LOUNGE INC</td>\n",
       "      <td>901 GRANT AVE</td>\n",
       "      <td>SAN FRANCISCO</td>\n",
       "      <td>CA</td>\n",
       "      <td>94108</td>\n",
       "      <td>SAN FRANCISCO</td>\n",
       "      <td>POINT (-211615.1136665252 -21891.46569795953)</td>\n",
       "    </tr>\n",
       "    <tr>\n",
       "      <th>8110</th>\n",
       "      <td>LITTLE SHAMROCK</td>\n",
       "      <td>LITTLE SHAMROCK INC</td>\n",
       "      <td>807 LINCOLN WAY</td>\n",
       "      <td>SAN FRANCISCO</td>\n",
       "      <td>CA</td>\n",
       "      <td>94122</td>\n",
       "      <td>SAN FRANCISCO</td>\n",
       "      <td>POINT (-216978.9671488987 -25043.21085385513)</td>\n",
       "    </tr>\n",
       "    <tr>\n",
       "      <th>9757</th>\n",
       "      <td>SAN FRANCISCO ODD FELLOWS CLUB</td>\n",
       "      <td>SAN FRANCISCO ODD FELLOWS CLUB</td>\n",
       "      <td>26 7TH ST</td>\n",
       "      <td>SAN FRANCISCO</td>\n",
       "      <td>CA</td>\n",
       "      <td>94103</td>\n",
       "      <td>SAN FRANCISCO</td>\n",
       "      <td>POINT (-212151.3200401409 -23576.10106546246)</td>\n",
       "    </tr>\n",
       "  </tbody>\n",
       "</table>\n",
       "</div>"
      ],
      "text/plain": [
       "                                DBAName                                pName  \\\n",
       "FileNum                                                                        \n",
       "1352                    SAM JORDANS BAR  SAM JORDAN OF CALIFORNIA CATERING I   \n",
       "6237                          MOBY DICK                            DAVIC INC   \n",
       "7049                      BUDDHA LOUNGE                    BUDDHA LOUNGE INC   \n",
       "8110                    LITTLE SHAMROCK                  LITTLE SHAMROCK INC   \n",
       "9757     SAN FRANCISCO ODD FELLOWS CLUB       SAN FRANCISCO ODD FELLOWS CLUB   \n",
       "\n",
       "               pAddress1          pCity pState        pZip        pCounty  \\\n",
       "FileNum                                                                     \n",
       "1352         4004 3RD ST  SAN FRANCISCO     CA  94124-2129  SAN FRANCISCO   \n",
       "6237        4049 18TH ST  SAN FRANCISCO     CA  94114-2501  SAN FRANCISCO   \n",
       "7049       901 GRANT AVE  SAN FRANCISCO     CA       94108  SAN FRANCISCO   \n",
       "8110     807 LINCOLN WAY  SAN FRANCISCO     CA       94122  SAN FRANCISCO   \n",
       "9757           26 7TH ST  SAN FRANCISCO     CA       94103  SAN FRANCISCO   \n",
       "\n",
       "                                              geometry  \n",
       "FileNum                                                 \n",
       "1352     POINT (-210199.9582317903 -27958.10823745374)  \n",
       "6237     POINT (-214089.4110975648 -25661.79125331948)  \n",
       "7049     POINT (-211615.1136665252 -21891.46569795953)  \n",
       "8110     POINT (-216978.9671488987 -25043.21085385513)  \n",
       "9757     POINT (-212151.3200401409 -23576.10106546246)  "
      ]
     },
     "execution_count": 40,
     "metadata": {},
     "output_type": "execute_result"
    }
   ],
   "source": [
    "sf_bars_loc=gpd.GeoDataFrame(data=sf_bars, geometry=geometry, crs={'init': 'epsg:4326'}).to_crs(epsg=3310)\n",
    "sf_bars_loc.head()"
   ]
  },
  {
   "cell_type": "markdown",
   "metadata": {},
   "source": [
    "## Overlay Bar Locations with SF Neighborhoods\n",
    "Next, I read in a shapefile of San Francisco neighborhood boundaries that I downloaded from the city's open data portal. I read the shapefile in as a GeoDataFrame, convert to the geometry to the same coordinate system that the bar data is in (EPSG 3310), and index it by the neigborhood name"
   ]
  },
  {
   "cell_type": "code",
   "execution_count": 41,
   "metadata": {
    "collapsed": false
   },
   "outputs": [
    {
     "data": {
      "text/html": [
       "<div>\n",
       "<table border=\"1\" class=\"dataframe\">\n",
       "  <thead>\n",
       "    <tr style=\"text-align: right;\">\n",
       "      <th></th>\n",
       "      <th>geometry</th>\n",
       "    </tr>\n",
       "    <tr>\n",
       "      <th>neighborho</th>\n",
       "      <th></th>\n",
       "    </tr>\n",
       "  </thead>\n",
       "  <tbody>\n",
       "    <tr>\n",
       "      <th>Bayview</th>\n",
       "      <td>(POLYGON ((-210116.2758885502 -27208.796425716...</td>\n",
       "    </tr>\n",
       "    <tr>\n",
       "      <th>Bernal Heights</th>\n",
       "      <td>POLYGON ((-213693.4078853455 -28899.1465987460...</td>\n",
       "    </tr>\n",
       "    <tr>\n",
       "      <th>Castro/Upper Market</th>\n",
       "      <td>POLYGON ((-215209.311299783 -25607.38579056924...</td>\n",
       "    </tr>\n",
       "    <tr>\n",
       "      <th>Chinatown</th>\n",
       "      <td>POLYGON ((-211813.8980475815 -22455.2900924645...</td>\n",
       "    </tr>\n",
       "    <tr>\n",
       "      <th>Crocker Amazon</th>\n",
       "      <td>POLYGON ((-213108.4411645748 -31521.8937425958...</td>\n",
       "    </tr>\n",
       "  </tbody>\n",
       "</table>\n",
       "</div>"
      ],
      "text/plain": [
       "                                                              geometry\n",
       "neighborho                                                            \n",
       "Bayview              (POLYGON ((-210116.2758885502 -27208.796425716...\n",
       "Bernal Heights       POLYGON ((-213693.4078853455 -28899.1465987460...\n",
       "Castro/Upper Market  POLYGON ((-215209.311299783 -25607.38579056924...\n",
       "Chinatown            POLYGON ((-211813.8980475815 -22455.2900924645...\n",
       "Crocker Amazon       POLYGON ((-213108.4411645748 -31521.8937425958..."
      ]
     },
     "execution_count": 41,
     "metadata": {},
     "output_type": "execute_result"
    }
   ],
   "source": [
    "neighs=gpd.read_file('Data/planning_neighborhoods.shp').to_crs(sf_bars_loc.crs).set_index('neighborho').sort_index()\n",
    "neighs.head()"
   ]
  },
  {
   "cell_type": "markdown",
   "metadata": {},
   "source": [
    "Then in 1 line of code I can overlay and get the counts of bars in each of the neighborhoods. I spatially join neighborhoods to bars, aggregate by neighborhood name while calculating the count, and then reindex by the neighborhood index to capture those neighborhoods without any bars."
   ]
  },
  {
   "cell_type": "code",
   "execution_count": 42,
   "metadata": {
    "collapsed": false
   },
   "outputs": [
    {
     "data": {
      "text/plain": [
       "neighborho\n",
       "Bayview                   5\n",
       "Bernal Heights           17\n",
       "Castro/Upper Market      21\n",
       "Chinatown                10\n",
       "Crocker Amazon            3\n",
       "Diamond Heights           1\n",
       "Downtown/Civic Center    64\n",
       "Excelsior                 4\n",
       "Financial District       35\n",
       "Glen Park                 2\n",
       "Golden Gate Park          0\n",
       "Haight Ashbury           12\n",
       "Inner Richmond           15\n",
       "Inner Sunset              9\n",
       "Lakeshore                 2\n",
       "Marina                   17\n",
       "Mission                  44\n",
       "Nob Hill                 16\n",
       "Noe Valley                5\n",
       "North Beach              18\n",
       "Ocean View                2\n",
       "Outer Mission             6\n",
       "Outer Richmond            4\n",
       "Outer Sunset             10\n",
       "Pacific Heights           3\n",
       "Parkside                  4\n",
       "Potrero Hill              7\n",
       "Presidio                  1\n",
       "Presidio Heights          3\n",
       "Russian Hill             11\n",
       "Seacliff                  0\n",
       "South of Market          44\n",
       "Treasure Island/YBI       0\n",
       "Twin Peaks                0\n",
       "Visitacion Valley         0\n",
       "West of Twin Peaks        9\n",
       "Western Addition         27\n",
       "dtype: float64"
      ]
     },
     "execution_count": 42,
     "metadata": {},
     "output_type": "execute_result"
    }
   ],
   "source": [
    "neigh_bar_count=gpd.tools.sjoin(sf_bars_loc, neighs.reset_index()).groupby('neighborho').size().reindex(neighs.index).fillna(0)\n",
    "neigh_bar_count"
   ]
  },
  {
   "cell_type": "markdown",
   "metadata": {},
   "source": [
    "However, bar counts aren't particularly useful because there is such variation in neighborhood size. I instead calculate the number of bars per square mile in each neighborhood by dividing the series of neighborhood counts by a series of neighborhood area. Note that I need to convert from square meters (the units of EPSG 3310) to square miles. I also sort by bar density and the results are what we would expect to see - Downtown, Chinatown, and the Financial District are among the areas with the greatest bar density, while Sea Cliff, Golden Gate Park, and Twin Peaks are among the areas with the lowest bar density."
   ]
  },
  {
   "cell_type": "code",
   "execution_count": 43,
   "metadata": {
    "collapsed": false
   },
   "outputs": [
    {
     "data": {
      "text/plain": [
       "neighborho\n",
       "Downtown/Civic Center    99.310839\n",
       "Chinatown                74.709966\n",
       "Financial District       50.431047\n",
       "Nob Hill                 43.397697\n",
       "North Beach              28.841243\n",
       "Mission                  25.423775\n",
       "Castro/Upper Market      24.523858\n",
       "Russian Hill             23.067683\n",
       "South of Market          20.837827\n",
       "Western Addition         17.800452\n",
       "Marina                   17.534502\n",
       "Haight Ashbury           15.730133\n",
       "Bernal Heights           14.553881\n",
       "Inner Richmond           11.418621\n",
       "Presidio Heights          6.820078\n",
       "Inner Sunset              6.740683\n",
       "Crocker Amazon            6.424730\n",
       "Noe Valley                5.574533\n",
       "Glen Park                 5.358741\n",
       "Potrero Hill              5.105651\n",
       "West of Twin Peaks        4.756940\n",
       "Pacific Heights           4.478685\n",
       "Outer Mission             4.360855\n",
       "Outer Sunset              4.098037\n",
       "Outer Richmond            2.947110\n",
       "Diamond Heights           2.920034\n",
       "Parkside                  2.640381\n",
       "Excelsior                 2.495189\n",
       "Ocean View                1.493862\n",
       "Bayview                   1.021477\n",
       "Lakeshore                 0.548540\n",
       "Presidio                  0.420386\n",
       "Golden Gate Park          0.000000\n",
       "Seacliff                  0.000000\n",
       "Treasure Island/YBI       0.000000\n",
       "Twin Peaks                0.000000\n",
       "Visitacion Valley         0.000000\n",
       "Name: BarsPSqMi, dtype: float64"
      ]
     },
     "execution_count": 43,
     "metadata": {},
     "output_type": "execute_result"
    }
   ],
   "source": [
    "bars_p_sqmi=(neigh_bar_count/(neighs.area/2.59e+6)).sort(inplace=False,ascending=False)\n",
    "bars_p_sqmi.name='BarsPSqMi'\n",
    "bars_p_sqmi"
   ]
  },
  {
   "cell_type": "markdown",
   "metadata": {},
   "source": [
    "## Plot Bars and Neighborhoods using GeoPandas\n",
    "\n",
    "Now I will use the built-in plotting features of GeoPandas to make a quick map overlaying bar point locations on neighborhood boundaries symbolized by bar density. You'll notice below that I actually plot a subset of the bars. This is because two of the bars are located at the airport which although managed by San Francisco is technically not in San Francisco city boundaries. To clean the map up, I get rid of these bars by selecting only those that intersect the union of neighborhoods. \n",
    "\n",
    "And when plotting the neighborhoods, I first need to create a GeoDataFrame composed of the data from the bar density Series and the geometry from the neighborhood GeoDataFrame. I specify that I want to symbolize by the field \"BarsPSqMi\" broken into quantiles, using a red colormap."
   ]
  },
  {
   "cell_type": "code",
   "execution_count": 53,
   "metadata": {
    "collapsed": false,
    "scrolled": true
   },
   "outputs": [
    {
     "data": {
      "image/png": "[encoded data removed]",
      "text/plain": [
       "<matplotlib.figure.Figure at 0x8cedc70>"
      ]
     },
     "metadata": {},
     "output_type": "display_data"
    }
   ],
   "source": [
    "sf_bars_loc[sf_bars_loc.intersects(neighs.unary_union)].plot()\n",
    "gpd.GeoDataFrame(bars_p_sqmi,geometry=neighs.geometry,crs=neighs.crs).plot(column='BarsPSqMi', scheme='QUANTILES', colormap='OrRd')\n",
    "fig=plt.xticks(rotation=40)"
   ]
  },
  {
   "cell_type": "markdown",
   "metadata": {},
   "source": [
    "## Export Bar GeoDataframe to Shapefile\n",
    "\n",
    "GeoPandas makes this very easy!"
   ]
  },
  {
   "cell_type": "code",
   "execution_count": 110,
   "metadata": {
    "collapsed": true
   },
   "outputs": [],
   "source": [
    "sf_bars_loc.to_file('Data/sf_bar_locations.shp')"
   ]
  }
 ],
 "metadata": {
  "kernelspec": {
   "display_name": "Python 2",
   "language": "python",
   "name": "python2"
  },
  "language_info": {
   "codemirror_mode": {
    "name": "ipython",
    "version": 2
   },
   "file_extension": ".py",
   "mimetype": "text/x-python",
   "name": "python",
   "nbconvert_exporter": "python",
   "pygments_lexer": "ipython2",
   "version": "2.7.8"
  }
 },
 "nbformat": 4,
 "nbformat_minor": 0
}
